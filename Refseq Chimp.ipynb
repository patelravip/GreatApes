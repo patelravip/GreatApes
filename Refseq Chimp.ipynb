{
 "cells": [
  {
   "cell_type": "code",
   "execution_count": 1,
   "metadata": {
    "collapsed": true
   },
   "outputs": [],
   "source": [
    "from __future__ import division\n",
    "import os\n",
    "import sys\n",
    "from cStringIO import StringIO\n",
    "\n",
    "import numpy as np\n",
    "import pandas as pd\n",
    "\n",
    "from Bio import SeqIO\n",
    "\n",
    "from subprocess import Popen,PIPE\n",
    "\n",
    "from IPython.display import display\n",
    "from ipywidgets import *"
   ]
  },
  {
   "cell_type": "code",
   "execution_count": 2,
   "metadata": {
    "collapsed": true
   },
   "outputs": [],
   "source": [
    "refgene = pd.read_csv('/DATA/raw/refseq/remap/top40_caps.txt', sep='\\t').sort_values(by='name')"
   ]
  },
  {
   "cell_type": "code",
   "execution_count": 3,
   "metadata": {
    "collapsed": true
   },
   "outputs": [],
   "source": [
    "refgene = refgene[~refgene['chrom'].str.contains('_')]"
   ]
  },
  {
   "cell_type": "code",
   "execution_count": 4,
   "metadata": {
    "collapsed": false
   },
   "outputs": [
    {
     "data": {
      "text/html": [
       "<div>\n",
       "<table border=\"1\" class=\"dataframe\">\n",
       "  <thead>\n",
       "    <tr style=\"text-align: right;\">\n",
       "      <th></th>\n",
       "      <th>#bin</th>\n",
       "      <th>name</th>\n",
       "      <th>chrom</th>\n",
       "      <th>strand</th>\n",
       "      <th>txStart</th>\n",
       "      <th>txEnd</th>\n",
       "      <th>cdsStart</th>\n",
       "      <th>cdsEnd</th>\n",
       "      <th>exonCount</th>\n",
       "      <th>exonStarts</th>\n",
       "      <th>exonEnds</th>\n",
       "      <th>score</th>\n",
       "      <th>name2</th>\n",
       "      <th>cdsStartStat</th>\n",
       "      <th>cdsEndStat</th>\n",
       "      <th>exonFrames</th>\n",
       "    </tr>\n",
       "  </thead>\n",
       "  <tbody>\n",
       "    <tr>\n",
       "      <th>0</th>\n",
       "      <td>1746</td>\n",
       "      <td>NM_001009931</td>\n",
       "      <td>chr1</td>\n",
       "      <td>-</td>\n",
       "      <td>152184551</td>\n",
       "      <td>152196672</td>\n",
       "      <td>152185551</td>\n",
       "      <td>152195729</td>\n",
       "      <td>3</td>\n",
       "      <td>152184551,152195591,152196618,</td>\n",
       "      <td>152193966,152195754,152196672,</td>\n",
       "      <td>0</td>\n",
       "      <td>HRNR</td>\n",
       "      <td>cmpl</td>\n",
       "      <td>cmpl</td>\n",
       "      <td>0,0,-1,</td>\n",
       "    </tr>\n",
       "    <tr>\n",
       "      <th>20</th>\n",
       "      <td>1353</td>\n",
       "      <td>NM_001040105</td>\n",
       "      <td>chr7</td>\n",
       "      <td>+</td>\n",
       "      <td>100663363</td>\n",
       "      <td>100702140</td>\n",
       "      <td>100663416</td>\n",
       "      <td>100701325</td>\n",
       "      <td>13</td>\n",
       "      <td>100663363,100674400,100674881,100691264,100692...</td>\n",
       "      <td>100663498,100674502,100687100,100691396,100692...</td>\n",
       "      <td>0</td>\n",
       "      <td>MUC17</td>\n",
       "      <td>cmpl</td>\n",
       "      <td>cmpl</td>\n",
       "      <td>0,1,1,1,1,0,2,1,1,2,2,1,0,</td>\n",
       "    </tr>\n",
       "    <tr>\n",
       "      <th>34</th>\n",
       "      <td>619</td>\n",
       "      <td>NM_001080400</td>\n",
       "      <td>chr19</td>\n",
       "      <td>-</td>\n",
       "      <td>4502191</td>\n",
       "      <td>4517716</td>\n",
       "      <td>4504470</td>\n",
       "      <td>4517716</td>\n",
       "      <td>6</td>\n",
       "      <td>4502191,4504872,4508779,4510457,4516628,4517565,</td>\n",
       "      <td>4504797,4504959,4508967,4513716,4516690,4517716,</td>\n",
       "      <td>0</td>\n",
       "      <td>PLIN4</td>\n",
       "      <td>cmpl</td>\n",
       "      <td>cmpl</td>\n",
       "      <td>0,0,1,0,1,0,</td>\n",
       "    </tr>\n",
       "    <tr>\n",
       "      <th>35</th>\n",
       "      <td>1005</td>\n",
       "      <td>NM_001081637</td>\n",
       "      <td>chr19</td>\n",
       "      <td>+</td>\n",
       "      <td>55141967</td>\n",
       "      <td>55148981</td>\n",
       "      <td>55142524</td>\n",
       "      <td>55148329</td>\n",
       "      <td>15</td>\n",
       "      <td>55141967,55142476,55142721,55142950,55143385,5...</td>\n",
       "      <td>55142084,55142558,55142757,55143238,55143688,5...</td>\n",
       "      <td>0</td>\n",
       "      <td>LILRB1</td>\n",
       "      <td>cmpl</td>\n",
       "      <td>cmpl</td>\n",
       "      <td>-1,0,1,1,1,1,1,1,1,1,1,2,1,0,0,</td>\n",
       "    </tr>\n",
       "    <tr>\n",
       "      <th>1</th>\n",
       "      <td>290</td>\n",
       "      <td>NM_001098623</td>\n",
       "      <td>chr1</td>\n",
       "      <td>+</td>\n",
       "      <td>228395830</td>\n",
       "      <td>228566575</td>\n",
       "      <td>228399484</td>\n",
       "      <td>228566496</td>\n",
       "      <td>105</td>\n",
       "      <td>228395830,228399466,228401141,228401874,228402...</td>\n",
       "      <td>228395886,228400472,228401411,228402135,228402...</td>\n",
       "      <td>0</td>\n",
       "      <td>OBSCN</td>\n",
       "      <td>cmpl</td>\n",
       "      <td>cmpl</td>\n",
       "      <td>-1,0,1,1,1,1,1,1,1,1,1,1,1,1,1,1,1,1,1,1,1,1,1...</td>\n",
       "    </tr>\n",
       "  </tbody>\n",
       "</table>\n",
       "</div>"
      ],
      "text/plain": [
       "    #bin          name  chrom strand    txStart      txEnd   cdsStart  \\\n",
       "0   1746  NM_001009931   chr1      -  152184551  152196672  152185551   \n",
       "20  1353  NM_001040105   chr7      +  100663363  100702140  100663416   \n",
       "34   619  NM_001080400  chr19      -    4502191    4517716    4504470   \n",
       "35  1005  NM_001081637  chr19      +   55141967   55148981   55142524   \n",
       "1    290  NM_001098623   chr1      +  228395830  228566575  228399484   \n",
       "\n",
       "       cdsEnd  exonCount                                         exonStarts  \\\n",
       "0   152195729          3                     152184551,152195591,152196618,   \n",
       "20  100701325         13  100663363,100674400,100674881,100691264,100692...   \n",
       "34    4517716          6   4502191,4504872,4508779,4510457,4516628,4517565,   \n",
       "35   55148329         15  55141967,55142476,55142721,55142950,55143385,5...   \n",
       "1   228566496        105  228395830,228399466,228401141,228401874,228402...   \n",
       "\n",
       "                                             exonEnds  score   name2  \\\n",
       "0                      152193966,152195754,152196672,      0    HRNR   \n",
       "20  100663498,100674502,100687100,100691396,100692...      0   MUC17   \n",
       "34   4504797,4504959,4508967,4513716,4516690,4517716,      0   PLIN4   \n",
       "35  55142084,55142558,55142757,55143238,55143688,5...      0  LILRB1   \n",
       "1   228395886,228400472,228401411,228402135,228402...      0   OBSCN   \n",
       "\n",
       "   cdsStartStat cdsEndStat                                         exonFrames  \n",
       "0          cmpl       cmpl                                            0,0,-1,  \n",
       "20         cmpl       cmpl                         0,1,1,1,1,0,2,1,1,2,2,1,0,  \n",
       "34         cmpl       cmpl                                       0,0,1,0,1,0,  \n",
       "35         cmpl       cmpl                    -1,0,1,1,1,1,1,1,1,1,1,2,1,0,0,  \n",
       "1          cmpl       cmpl  -1,0,1,1,1,1,1,1,1,1,1,1,1,1,1,1,1,1,1,1,1,1,1...  "
      ]
     },
     "execution_count": 4,
     "metadata": {},
     "output_type": "execute_result"
    }
   ],
   "source": [
    "refgene.head()"
   ]
  },
  {
   "cell_type": "code",
   "execution_count": 5,
   "metadata": {
    "collapsed": true
   },
   "outputs": [],
   "source": [
    " def tabix_query(chrom, start, end, get_inds=False):\n",
    "        filename = '/DATA/raw/GreatApes/vcfs/Pan_troglodytes.hg19.vcf.gz'\n",
    "        query = 'chr{}:{}-{}'.format(chrom, start, end)\n",
    "        if get_inds:\n",
    "            process = Popen(['tabix', '-h', '-f', filename, query], stdout=PIPE)\n",
    "            while True:\n",
    "                line = process.stdout.readline().strip().split()\n",
    "                if line[0][:2] != \"##\":\n",
    "                    indIds = line[9:]\n",
    "                    break\n",
    "            yield indIds\n",
    "        else:\n",
    "            process = Popen(['tabix', '-f', filename, query], stdout=PIPE)\n",
    "        for line in process.stdout:\n",
    "            yield line.strip().split()\n",
    "\n",
    "\n",
    "def chimp_genotypes(chrom,pos):\n",
    "    if str(chrom)[:3] == \"chr\":\n",
    "        chrom = chrom[3:]\n",
    "    try:\n",
    "        r = tabix_query(chrom,pos,pos)\n",
    "        while True:\n",
    "            res = r.next()\n",
    "            if res[1] == str(pos):\n",
    "                break\n",
    "    except StopIteration:\n",
    "        return None\n",
    "\n",
    "    return res"
   ]
  },
  {
   "cell_type": "code",
   "execution_count": 6,
   "metadata": {
    "collapsed": true
   },
   "outputs": [],
   "source": [
    "def get_exons(row):\n",
    "    es = map(int,row['exonStarts'].split(',')[:-1])\n",
    "    ee = map(int,row['exonEnds'].split(',')[:-1])\n",
    "    \n",
    "    exons = []\n",
    "    for start,end in zip(es,ee):\n",
    "        if (row['cdsStart'] > start) and (row['cdsStart'] < end):\n",
    "            start = row['cdsStart']\n",
    "            exons.append((start,end))\n",
    "        elif (row['cdsEnd'] < end) and (row['cdsEnd'] > start):\n",
    "            end = row['cdsEnd']\n",
    "            exons.append((start,end))\n",
    "        elif (start >= row['cdsStart']) and (end <= row['cdsEnd']):\n",
    "            exons.append((start,end))        \n",
    "    return exons"
   ]
  },
  {
   "cell_type": "code",
   "execution_count": 7,
   "metadata": {
    "collapsed": true
   },
   "outputs": [],
   "source": [
    "def fill_sequences(sequences,base):\n",
    "    for s in sequences:\n",
    "        sequences[s].write(base)\n",
    "    \n",
    "    return sequences"
   ]
  },
  {
   "cell_type": "code",
   "execution_count": 8,
   "metadata": {
    "collapsed": true
   },
   "outputs": [],
   "source": [
    "def chunk_seq(seq, n=80):\n",
    "    for i in range(0, len(seq), n):\n",
    "        yield seq[i:i+n]"
   ]
  },
  {
   "cell_type": "code",
   "execution_count": 9,
   "metadata": {
    "collapsed": true
   },
   "outputs": [],
   "source": [
    "COMPLEMENTS = {'A':'T',\n",
    "              'T':'A',\n",
    "              'C':'G',\n",
    "              'G':'C'}"
   ]
  },
  {
   "cell_type": "code",
   "execution_count": 10,
   "metadata": {
    "collapsed": true
   },
   "outputs": [],
   "source": [
    "individuals = tabix_query('1',1,999999999,get_inds=True).next()"
   ]
  },
  {
   "cell_type": "code",
   "execution_count": 11,
   "metadata": {
    "collapsed": false
   },
   "outputs": [
    {
     "data": {
      "text/plain": [
       "['Pan_troglodytes_ellioti-Akwaya_Jean',\n",
       " 'Pan_troglodytes_ellioti-Banyo',\n",
       " 'Pan_troglodytes_ellioti-Basho',\n",
       " 'Pan_troglodytes_ellioti-Damian',\n",
       " 'Pan_troglodytes_ellioti-Julie',\n",
       " 'Pan_troglodytes_ellioti-Kopongo',\n",
       " 'Pan_troglodytes_ellioti-Koto',\n",
       " 'Pan_troglodytes_ellioti-Paquita',\n",
       " 'Pan_troglodytes_ellioti-Taweh',\n",
       " 'Pan_troglodytes_ellioti-Tobi',\n",
       " 'Pan_troglodytes_schweinfurthii-100037_Vincent',\n",
       " 'Pan_troglodytes_schweinfurthii-100040_Andromeda',\n",
       " 'Pan_troglodytes_schweinfurthii-9729_Harriet',\n",
       " 'Pan_troglodytes_schweinfurthii-A910_Bwambale',\n",
       " 'Pan_troglodytes_schweinfurthii-A911_Kidongo',\n",
       " 'Pan_troglodytes_schweinfurthii-A912_Nakuu',\n",
       " 'Pan_troglodytes_troglodytes-A957_Vaillant',\n",
       " 'Pan_troglodytes_troglodytes-A958_Doris',\n",
       " 'Pan_troglodytes_troglodytes-A959_Julie',\n",
       " 'Pan_troglodytes_troglodytes-A960_Clara',\n",
       " 'Pan_troglodytes_verus-9668_Bosco',\n",
       " 'Pan_troglodytes_verus-9730_Donald',\n",
       " 'Pan_troglodytes_verus-A956_Jimmie',\n",
       " 'Pan_troglodytes_verus-Clint',\n",
       " 'Pan_troglodytes_verus-X00100_Koby']"
      ]
     },
     "execution_count": 11,
     "metadata": {},
     "output_type": "execute_result"
    }
   ],
   "source": [
    "individuals"
   ]
  },
  {
   "cell_type": "code",
   "execution_count": 12,
   "metadata": {
    "collapsed": true
   },
   "outputs": [],
   "source": [
    "out_dir = '/DATA/raw/1KG/aln/chimp/'"
   ]
  },
  {
   "cell_type": "code",
   "execution_count": 13,
   "metadata": {
    "collapsed": false
   },
   "outputs": [
    {
     "name": "stdout",
     "output_type": "stream",
     "text": [
      ". . . . . . . . . . . . . . . . . . . . . . . . . . . . . . . . . . . . . . . . . . . . . . . . . . . . . . . . . . . . . . . . . . . . . . . . . . . . . . . . . . . . . . . . . . . . . . . . . . . . . . . . . . . . . . . . . . . . . . . . . . . . . . . . . . . . . . . . . . . . . . . . . . . . . . . . . . . . . . . . . . . . . . . . . . . . . . . . . . . . . . . . . . . . . . . . . . . . . . . . . . . . . . . . . . . . . . . . . . . . . . . . . . . . . . . . . . . . . . . . . . . . . . . . . . . . . . . . . . . . . . . . . . . . . . . . . . . . . . . . . . . . . . . . . . . . . . . . . . . . . . . . . . . . . . . . . . . . . . . . . . . . . . . . . . . . . . . . . . . . . . . . . . . . . . . . . . . . . . . . . . . . . . . . . . . . . . . . . . . . . . . . . . . . . . . . . . . . . . . . . . . . . . . . . . . . . . . . . . . . . . . . . . . . . . . . . . . . . . . . . . . . . . . . . . . . . . . . . . . . . . . . . . . . . . . . . . . . . . . . . . . . . . . . . . . . . . . . . . . . . . . . . . . . . . . . . . . . . . . . . . . . . . . . . . . . . . . . . . . . . . . . . . . . . . . . . . . . . . . . . . . . . . . . . . . . . . . . . . . . . . . . . . . . . . . . . . . . . . . . . . . . . . . . . . . . . . . . . . . . . . . . . . . . . . . . . . . . . . . . . . . . . . . . . . . . . . . . . . . . . . . . . . . . . . . . . . . . . . . . . . . . . . . . . . . . . . . . . . . . . . . . . . . . . . . . . . . . . . . . . . . . . . . . . . . . . . . . . . . . . . . . . . . . . . . . . . . . . . . . . . . . . . . . . . . . . . . . . . . . . . . . . . . . . . . . . . . . . . . . . . . . . . . . . . . . . . . . . . . . . . . . . . . . . . . . . . . . . . . . . . . . . . . . . . . . . . . . . . . . . . . . . . . . . . . . . . . . . . . . . . . . . . . . . . . . . . . . . . . . . . . . . . . . . . . . . . . . . . . . . . . . . . . . . . . . . . . . . . . . . . . . . . . . . . . . . . . . . . . . . . . . . . . . . . . . . . . . . . . . . . . . . . . . . . . . . . . . . . . . . . . . . . . . . . . . . . . . . . . . . . . . . . . . . . . . . . . . . . . . . . . . . . . . . . . . . . . . . . . . . . . . . . . . . . . . . . . . . . . . . . . . . . . . . . . . . . . . . . . . . . . . . . . . . . . . . . . . . . . . . . . . . . . . . . . . . . . . . . . . . . . . . . . . . . . . . . . . . . . . . . . . . . . . . . . . . . . . . . . . . . . . . . . . . . . . . . . . . . . . . . . . . . . . . . . . . . . . . . . . . . . . . . . . . . . . . . . . . . . . . . . . . . . . . . . . . . . . . . . . . . . . . . . . . . . . . . . . . . . . . . . . . . . . . . . . . . . . . . . . . . . . . . . . . . . . . . . . . . . . . . . . . . . . . . . . . . . . . . . . . . . . . . . . . . . . . . . . . . . . . . . . . . . . . . . . . . . . . . . . . . . . . . . . . . . . . . . . . . . . . . . . . . . . . . . . . . . . . . . . . . . . . . . . . . . . . . . . . . . . . . . . . . . . . . . . . . . . . . . . . . . . . . . . . . . . . . . . . . . . . . . . . . . . . . . . . . . . . . . . . . . . . . . . . . . . . . . . . . . . . . . . . . . . . . . . . . . . . . . . . . . . . . . . . . . . . . . . . . . . . . . . . . . . . . . . . . . . . . . . . . . . . . . . . . . . . . . . . . . . . . . . . . . . . . . . . . . . . . . . . . . . . . . . . . . . . . . . . . . . . . . . . . . . . . . . . . . . . . . . . . . . . . . . . . . . . . . . . . . . . . . . . . . . . . . . . . . . . . . . . . . . . . . . . . . . . . . . . . . . . . . . . . . . . . . . . . . . . . . . . . . . . . . . . . . . . . . . . . . . . . . . . . . . . . . . . . . . . . . . . . . . . . . . . . . . . . . . . . . . . . . . . . . . . . . . . . . . . . . . . . . . . . . . . . . . . . . . . . . . . . . . . . . . . . . . . . . . . . . . . . . . . . . . . . . . . . . . . . . . . . . . . . . . . . . . . . . . . . . . . . . . . . . . . . . . . . . . . . . . . . . . . . . . . . . . . . . . . . . . . . . . . . . . . . . . . . . . . . . . . . . . . . . . . . . . . . . . . . . . . . . . . . . . . . . . . . . . . . . . . . . . . . . . . . . . . . . . . . . . . . . . . . . . . . . . . . . . . . . . . . . . . . . . . . . . . . . . . . . . . . . . . . . . . . . . . . . . . . . . . . . . . . . . . . . . . . . . . . . . . . . . . . . . . . . . . . . . . . . . . . . . . . . . . . . . . . . . . . . . . . . . . . . . . . . . . . . . . . . . . . . . . . . . . . . . . . . . . . . . . . . . . . . . . . . . . . . . . . . . . . . . . . . . . . . . . . . . . . . . . . . . . . . . . . . . . . . . . . . . . . . . . . . . . . . . . . . . . . . . . . . . . . . . . . . . . . . . . . . . . . . . . . . . . . . . . . . . . . . . . . . . . . . . . . . . . . . . . . . . . . . . . . . . . . . . . . . . . . . . . . . . . . . . . . . . . . . . . . . . . . . . . . . . . . . . . . . . . . . . . . . . . . . . . . . . . . . . . . . . . . . . . . . . . . . . . . . . . . . . . . . . . . . . . . . . . . . . . . . . . . . . . . . . . . . . . . . . . . . . . . . . . . . . . . . . . . . . . . . . . . . . . . . . . . . . . . . . . . . . . . . . . . . . . . . . . . . . . . . . . . . . . . . . . . . . . . . . . . . . . . . . . . . . . . . . . . . . . . . . . . . . . . . . . . . . . . . . . . . . . . . . . . . . . . . . . . . . . . . . . . . . . . . . . . . . . . . . . . . . . . . . . . . . . . . . . . . . . . . . . . . . . . . . . . . . . . . . . . . . . . . . . . . . . . . . . . . . . . . . . . . . . . . . . . . . . . . . . . . . . . . . . . . . . . . . . . . . . . . . . . . . . . . . . . . . . . . . . . . . . . . . . . . . . . . . . . . . . . . . . . . . . . . . . . . . . . . . . . . . . . . . . . . . . . . . . . . . . . . . . . . . . . . . . . . . . . . . . . . . . . . . . . . . . . . . . . . . . . . . . . . . . . . . . . . . . . . . . . . . . . . . . . . . . . . . . . . . . . . . . . . . . . . . . . . . . . . . . . . . . . . . . . . . . . . . . . . . . . . . . . . . . . . . . . . . . . . . . . . . . . . . . . . . . . . . . . . . . . . . . . . . . . . . . . . . . . . . . . . . . . . . . . . . . . . . . . . . . . . . . . . . . . . . . . . . . . . . . . . . . . . . . . . . . . . . . . . . . . . . . . . . . . . . . . . . . . . . . . . . . . . . . . . . . . . . . . . . . . . . . . . . . . . . . . . . . . . . . . . . . . . . . . . . . . . . . . . . . . . . . . . . . . . . . . . . . . . . . . . . . . . . . . . . . . . . . . . . . . . . . . . . . . . . . . . . . . . . . . . . . . . . . . . . . . . . . . . . . . . . . . . . . . . . . . . . . . . . . . . . . . . . . . . . . . . . . . . . . . . . . . . . . . . . . . . . . . . . . . . . . . . . . . . . . . . . . . . . . . . . . . . . . . . . . . . . . . . . . . . . . . . . . . . . . . . . . . . . . . . . . . . . . . . . . . . . . . . . . . . . . . . . . . . . . . . . . . . . . . . . . . . . . . . . . . . . . . . . . . . . . . . . . . . . . . . . . . . . . . . . . . . . . . . . . . . . . . . . . . . . . . . . . . . . . . . . . . . . . . . . . . . . . . . . . . . . . . . . . . . . . . . . . . . . . . . . . . . . . . . . . . . . . . . . . . . . . . . . . . . . . . . . . . . . . . . . . . . . . . . . . . . . . . . . . . . . . . . . . . . . . . . . . . . . . . . . . . . . . . . . . . . . . . . . . . . . . . . . . . . . . . . . . . . . . . . . . . . . . . . . . . . . . . . . . . . . . . . . . . . . . . . . . . . . . . . . . . . . . . . . . . . . . . . . . . . . . . . . . . . . . . . . . . . . . . . . . . . . . . . . . . . . . . . . . . . . . . . . . . . . . . . . . . . . . . . . . . . . . . . . . . . . . . . . . . . . . . . . . . . . . . . . . . . . . . . . . . . . . . . . . . . . . . . . . . . . . . . . . . . . . . . . . . . . . . . . . . . . . . . . . . . . . . . . . . . . . . . . . . . . . . . . . . . . . . . . . . . . . . . . . . . . . . . . . . . . . . . . . . . . . . . . . . . . . . . . . . . . . . . . . . . . . . . . . . . . . . . . . . . . . . . . . . . . . . . . . . . . . . . . . . . . . . . . . . . . . . . . . . . . . . . . . . . . . . . . . . . . . . . . . . . . . . . . . . . . . . . . . . . . . . . . . . . . . . . . . . . . . . . . . . . . . . . . . . . . . . . . . . . . . . . . . . . . . . . . . . . . . . . . . . . . . . . . . . . . . . . . . . . . . . . . . . . . . . . . . . . . . . . . . . . . . . . . . . . . . . . . . . . . . . . . . . . . . . . . . . . . . . . . . . . . . . . . . . . . . . . . . . . . . . . . . . . . . . . . . . . . . . . . . . . . . . . . . . . . . . . . . . . . . . . . . . . . . . . . . . . . . . . . . . . . . . . . . . . . . . . . . . . . . . . . . . . . . . . . . . . . . . . . . . . . . . . . . . . . . . . . . . . . . . . . . . . . . . . . . . . . . . . . . . . . . . . . . . . . . . . . . . . . . . . . . . . . . . . . . . . . . . . . . . . . . . . . . . . . . . . . . . . . . . . . . . . . . . . . . . . . . . . . . . . . . . . . . . . . . . . . . . . . . . . . . . . . . . . . . . . . . . . . . . . . . . . . . . . . . . . . . . . . . . . . . . . . . . . . . . . . . . . . . . . . . . . . . . . . . . . . . . . . . . . . . . . . . . . . . . . . . . . . . . . . . . . . . . . . . . . . . . . . . . . . . . . . . . . . . . . . . . . . . . . . . . . . . . . . . . . . . . . . . . . . . . . . . . . . . . . . . . . . . . . . . . . . . . . . . . . . . . . . . . . . . . . . . . . . . . . . . . . . . . . . . . . . . . . . . . . . . . . . . . . . . . . . . . . . . . . . . . . . . . . . . . . . . . . . . . . . . . . . . . . . . . . . . . . . . . . . . . . . . . . . . . . . . . . . . . . . . . . . . . . . . . . . . . . . . . . . . . . . . . . . . . . . . . . . . . . . . . . . . . . . . . . . . . . . . . . . . . . . . . . . . . . . . . . . . . . . . . . . . . . . . . . . . . . . . . . . . . . . . . . . . . . . . . . . . . . . . . . . . . . . . . . . . . . . . . . . . . . . . . . . . . . . . . . . . . . . . . . . . . . . . . . . . . . . . . . . . . . . . . . . . . . . . . . . . . . . . . . . . . . . . . . . . . . . . . . . . . . . . . . . . . . . . . . . . . . . . . . . . . . . . . . . . . . . . . . . . . . . . . . . . . . . . . . . . . . . . . . . . . . . . . . . . . . . . . . . . . . . . . . . . . . . . . . . . . . . . . . . . . . . . . . . . . . . . . . . . . . . . . . . . . . . . . . . . . . . . . . . . . . . . . . . . . . . . . . . . . . . . . . . . . . . . . . . . . . . . . . . . . . . . . . . . . . . . . . . . . . . . . . . . . . . . . . . . . . . . . . . . . . . . . . . . . . . . . . . . . . . . . . . . . . . . . . . . . . . . . . . . . . . . . . . . . . . . . . . . . . . . . . . . . . . . . . . . . . . . . . . . . . . . . . . . . . . . . . . . . . . . . . . . . . . . . . . . . . . . . . . . . . . . . . . . . . . . . . . . . . . . . . . . . . . . . . . . . . . . . . . . . . . . . . . . . . . . . . . . . . . . . . . . . . . . . . . . . . . . . . . . . . . . . . . . . . . . . . . . . . . . . . . . . . . . . . . . . . . . . . . . . . . . . . . . . . . . . . . . . . . . . . . . . . . . . . . . . . . . . . . . . . . . . . . . . . . . . . . . . . . . . . . . . . . . . . . . . . . . . . . . . . . . . . . . . . . . . . . . . . . . . . . . . . . . . . . . . . . . . . . . . . . . . . . . . . . . . . . . . . . . . . . . . . . . . . . . . . . . . . . . . . . . . . . . . . . . . . . . . . . . . . . . . . . . . . . . . . . . . . . . . . . . . . . . . . . . . . . . . . . . . . . . . . . . . . . . . . . . . . . . . . . . . . . . . . . . . . . . . . . . . . . . . . . . . . . . . . . . . . . . . . . . . . . . . . . . . . . . . . . . . . . . . . . . . . . . . . . . . . . . . . . . . . . . . . . . . . . . . . . . . . . . . . . . . . . . . . . . . . . . . . . . . . . . . . . . . . . . . . . . . . . . . . . . . . . . . . . . . . . . . . . . . . . . . . . . . . . . . . . . . . . . . . . . . . . . . . . . . . . . . . . . . . . . . . . . . . . . . . . . . . . . . . . . . . . . . . . . . . . . . . . . . . . . . . . . . . . . . . . . . . . . . . . . . . . . . . . . . . . . . . . . . . . . . . . . . . . . . . . . . . . . . . . . . . . . . . . . . . . . . . . . . . . . . . . . . . . . . . . . . . . . . . . . . . . . . . . . . . . . . . . . . . . . . . . . . . . . . . . . . . . . . . . . . . . . . . . . . . . . . . . . . . . . . . . . . . . . . . . . . . . . . . . . . . . . . . . . . . . . . . . . . . . . . . . . . . . . . . . . . . . . . . . . . . . . . . . . . . . . . . . . . . . . . . . . . . . . . . . . . . . . . . . . . . . . . . . . . . . . . . . . . . . . . . . . . . . . . . . . . . . . . . . . . . . . . . . . . . . . . . . . . . . . . . . . . . . . . . . . . . . . . . . . . . . . . . . . . . . . . . . . . . . . . . . . . . . . .CPU times: user 6min 3s, sys: 20min 8s, total: 26min 11s\n",
      "Wall time: 4h 23min 15s\n",
      "\n"
     ]
    }
   ],
   "source": [
    "%%time\n",
    "prog = IntProgress(width='800px')\n",
    "prog.color = '#CD5C5C'\n",
    "prog.value = 0\n",
    "prog.max = 1\n",
    "\n",
    "pb = IntProgress(width='800px')\n",
    "pb.value = 0\n",
    "pb.max = refgene.shape[0]\n",
    "ph = HTML()\n",
    "ph.value = '{} / {}'.format(pb.value, pb.max)\n",
    "\n",
    "display(prog,pb,ph)\n",
    "\n",
    "for ix,row in refgene.iterrows():\n",
    "    sequences = {}\n",
    "    for ind in individuals:\n",
    "        i1 = '{}.1'.format(ind)\n",
    "        i2 = '{}.2'.format(ind)\n",
    "        sequences[i1] = StringIO()\n",
    "        sequences[i2] = StringIO()\n",
    "    \n",
    "    refcore = row['name']\n",
    "    chrom = row['chrom']\n",
    "    strand = row['strand']\n",
    "    \n",
    "    if os.path.isfile(os.path.join(out_dir,'{}.fas'.format(refcore))):\n",
    "        pb.value += 1\n",
    "        ph.value = '{} / {}'.format(pb.value, pb.max)\n",
    "        continue\n",
    "    \n",
    "    \n",
    "    ## Get exons\n",
    "    res = get_exons(row)\n",
    "    positions = []\n",
    "    for r in res:\n",
    "        positions.extend(range(r[0]+1,r[1]+1))\n",
    "    \n",
    "    seq = list(SeqIO.parse(os.path.join('/DATA/raw/refseq/46way/nuc_all/','{}.fas'.format(refcore)),'fasta').next().seq)\n",
    "    \n",
    "    if strand == '-':\n",
    "        ps = zip(range(1,len(positions)+1),positions[::-1],seq)\n",
    "    else:\n",
    "        ps = zip(range(1,len(positions)+1),positions,seq)\n",
    "        \n",
    "#     p[refcore] = ps    \n",
    "#     print refcore,len(ps)\n",
    "#     continue\n",
    "    \n",
    "    d = dict([(x[0],(x[1],x[2])) for x in ps])\n",
    "    \n",
    "    ## Make sequences\n",
    "    prog.value = 0\n",
    "    prog.max = len(positions)+1\n",
    "    \n",
    "    for nuc_pos in range(1,len(positions)+1):\n",
    "        prog.value += 1\n",
    "        \n",
    "        try:\n",
    "            chrom_pos,base = d[nuc_pos]\n",
    "        except:\n",
    "#             print row,nuc_pos\n",
    "            print '.',\n",
    "            continue\n",
    "        base = base.upper()\n",
    "        snp = chimp_genotypes(chrom,chrom_pos)\n",
    "        \n",
    "        ## Empty results\n",
    "        if snp is None:\n",
    "            sequences = fill_sequences(sequences,base)\n",
    "            continue\n",
    "\n",
    "            ## No indels\n",
    "        if (len(snp[3]) != 1) or (len(snp[4]) != 1):\n",
    "            sequences = fill_sequences(sequences,base)\n",
    "            continue\n",
    "        \n",
    "        ## Has data\n",
    "        if strand == '+':\n",
    "            ref = snp[3]\n",
    "            alt = snp[4]\n",
    "        else:\n",
    "            ref = COMPLEMENTS[snp[3]]\n",
    "            alt = COMPLEMENTS[snp[4]]\n",
    "\n",
    "        for ind,gt in zip(individuals,snp[9:]):\n",
    "            g1,g2 = gt.split(':')[0].split('/')\n",
    "            if g1 == '.':\n",
    "                g1 = '0'\n",
    "            if g2 == '.':\n",
    "                g2 = '0'\n",
    "            sequences['{}.1'.format(ind)].write(g1.replace('0',ref).replace('1',alt))\n",
    "            sequences['{}.2'.format(ind)].write(g2.replace('0',ref).replace('1',alt))\n",
    "    \n",
    "    with open(os.path.join(out_dir,'{}.fas'.format(refcore)),'w') as fh:\n",
    "        fh.write('>hg19\\n{}\\n'.format('\\n'.join(chunk_seq(''.join(seq)))))\n",
    "        \n",
    "        for ind in individuals:\n",
    "            i1 = '{}.1'.format(ind)\n",
    "            i2 = '{}.2'.format(ind)\n",
    "\n",
    "            fh.write('>{}\\n{}\\n'.format(i1,'\\n'.join(chunk_seq(sequences[i1].getvalue()))))\n",
    "            fh.write('>{}\\n{}\\n'.format(i2,'\\n'.join(chunk_seq(sequences[i2].getvalue()))))\n",
    "    \n",
    "    pb.value += 1\n",
    "    ph.value = '{} / {}'.format(pb.value, pb.max)\n"
   ]
  },
  {
   "cell_type": "code",
   "execution_count": null,
   "metadata": {
    "collapsed": true
   },
   "outputs": [],
   "source": []
  }
 ],
 "metadata": {
  "kernelspec": {
   "display_name": "Python 2",
   "language": "python",
   "name": "python2"
  },
  "language_info": {
   "codemirror_mode": {
    "name": "ipython",
    "version": 2
   },
   "file_extension": ".py",
   "mimetype": "text/x-python",
   "name": "python",
   "nbconvert_exporter": "python",
   "pygments_lexer": "ipython2",
   "version": "2.7.6"
  },
  "widgets": {
   "state": {},
   "version": "1.1.2"
  }
 },
 "nbformat": 4,
 "nbformat_minor": 0
}
